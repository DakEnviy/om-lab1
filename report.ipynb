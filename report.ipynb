{
 "cells": [
  {
   "cell_type": "code",
   "execution_count": 39,
   "metadata": {},
   "outputs": [],
   "source": [
    "import math\n",
    "import numpy as np\n",
    "import pandas as pd\n",
    "import matplotlib.pyplot as plt"
   ]
  },
  {
   "cell_type": "code",
   "execution_count": 93,
   "metadata": {},
   "outputs": [],
   "source": [
    "def func1(x):\n",
    "    return -5 * x ** 5 + 4 * x ** 4 - 12 * x ** 3 + 11 * x ** 2 - 2 * x + 1\n",
    "\n",
    "\n",
    "def func2(x):\n",
    "    return math.log10(x - 2) ** 2 + math.log10(10 - x) ** 2 - x ** 0.2\n",
    "\n",
    "\n",
    "def func3(x):\n",
    "    return -3 * x * math.sin(0.75 * x) + math.exp(-2 * x)\n",
    "\n",
    "\n",
    "def func4(x):\n",
    "    return math.exp(3 * x) + 5 * math.exp(-2 * x)\n",
    "\n",
    "\n",
    "def func5(x):\n",
    "    return 0.2 * x * math.log10(x) + (x - 2.3) ** 2\n",
    "\n",
    "\n",
    "epsilon = 0.0001"
   ]
  },
  {
   "cell_type": "code",
   "execution_count": 3,
   "metadata": {},
   "outputs": [],
   "source": [
    "func_calls_count = 0\n",
    "intervals = []\n",
    "dots = []"
   ]
  },
  {
   "cell_type": "code",
   "execution_count": 84,
   "metadata": {},
   "outputs": [],
   "source": [
    "def find_min_dichotomy(func, a, b, epsilon):\n",
    "    global func_calls_count, intervals, dots\n",
    "    \n",
    "    func_calls_count = 0\n",
    "    intervals = []\n",
    "    dots = []\n",
    "    \n",
    "    while (b - a) > epsilon:\n",
    "        intervals.append((a, b))\n",
    "        \n",
    "        middle = (a + b) / 2\n",
    "        \n",
    "        x1 = middle - epsilon / 2.5\n",
    "        x2 = middle + epsilon / 2.5\n",
    "        val1 = func(x1)\n",
    "        val2 = func(x2)\n",
    "        \n",
    "        func_calls_count += 2\n",
    "        dots.append([(x1, val1), (x2, val2)])\n",
    "        \n",
    "        if val1 == val2:\n",
    "            a = x1\n",
    "            b = x2\n",
    "        if val1 < val2:\n",
    "            b = x2\n",
    "        if val2 < val1:\n",
    "            a = x1\n",
    "    \n",
    "    intervals.append((a, b))\n",
    "    dots.append([])\n",
    "\n",
    "    return (a + b) / 2"
   ]
  },
  {
   "cell_type": "code",
   "execution_count": 85,
   "metadata": {},
   "outputs": [],
   "source": [
    "def find_min_golden_ratio(func, a, b, epsilon):\n",
    "    global func_calls_count, intervals, dots\n",
    "    \n",
    "    x1 = a + ((3 - math.sqrt(5)) / 2) * (b - a)\n",
    "    x2 = b - ((3 - math.sqrt(5)) / 2) * (b - a)\n",
    "    val1 = func(x1)\n",
    "    val2 = func(x2)\n",
    "    \n",
    "    func_calls_count = 2\n",
    "    intervals = []\n",
    "    dots = []\n",
    "    \n",
    "    while (b - a) > epsilon:\n",
    "        intervals.append((a, b))\n",
    "        dots.append([(x1, val1), (x2, val2)])\n",
    "\n",
    "        if val1 == val2:\n",
    "            a = x1\n",
    "            b = x2\n",
    "            x1 = a + ((3 - math.sqrt(5)) / 2) * (b - a)\n",
    "            x2 = b - ((3 - math.sqrt(5)) / 2) * (b - a)\n",
    "            val1 = func(x1)\n",
    "            val2 = func(x2)\n",
    "            func_calls_count += 2\n",
    "\n",
    "        if val2 < val1:\n",
    "            a = x1\n",
    "            x1 = x2\n",
    "            x2 = b - ((3 - math.sqrt(5)) / 2) * (b - a)\n",
    "            val1 = val2\n",
    "            val2 = func(x2)\n",
    "            func_calls_count += 1\n",
    "            \n",
    "        if val1 < val2:\n",
    "            b = x2\n",
    "            x2 = x1\n",
    "            x1 = a + ((3 - math.sqrt(5)) / 2) * (b - a)\n",
    "            val2 = val1\n",
    "            val1 = func(x1)\n",
    "            func_calls_count += 1\n",
    "\n",
    "    intervals.append((a, b))\n",
    "    dots.append([])\n",
    "    \n",
    "    return (a + b) / 2"
   ]
  },
  {
   "cell_type": "code",
   "execution_count": 86,
   "metadata": {},
   "outputs": [],
   "source": [
    "fib_buf = [1, 1]\n",
    "\n",
    "\n",
    "def fib(n):\n",
    "    if n < 0:\n",
    "        raise ValueError()\n",
    "\n",
    "    if n < len(fib_buf):\n",
    "        return fib_buf[n]\n",
    "\n",
    "    v = fib(n - 1) + fib(n - 2)\n",
    "    fib_buf.append(v)\n",
    "    return v\n",
    "\n",
    "\n",
    "def find_min_fibonacci(func, a, b, epsilon):\n",
    "    global func_calls_count, intervals, dots\n",
    "    \n",
    "    fn = (b - a) / epsilon\n",
    "\n",
    "    n = 2\n",
    "    while fib(n) < fn:\n",
    "        n += 1\n",
    "\n",
    "    x1 = a + fib(n - 2) / fib(n) * (b - a)\n",
    "    x2 = a + fib(n - 1) / fib(n) * (b - a)\n",
    "    val1 = func(x1)\n",
    "    val2 = func(x2)\n",
    "    \n",
    "    func_calls_count = 2\n",
    "    intervals = []\n",
    "    dots = []\n",
    "\n",
    "    while n > 2:\n",
    "        n -= 1\n",
    "        \n",
    "        intervals.append((a, b))\n",
    "        dots.append([(x1, val1), (x2, val2)])\n",
    "\n",
    "        if val1 > val2:\n",
    "            a = x1\n",
    "\n",
    "            x1 = x2\n",
    "            x2 = a + fib(n - 1) / fib(n) * (b - a)\n",
    "\n",
    "            val1 = val2\n",
    "            val2 = func(x2)\n",
    "        else:\n",
    "            b = x2\n",
    "\n",
    "            x2 = x1\n",
    "            x1 = a + fib(n - 2) / fib(n) * (b - a)\n",
    "\n",
    "            val2 = val1\n",
    "            val1 = func(x1)\n",
    "        \n",
    "        func_calls_count += 1\n",
    "    \n",
    "    intervals.append((a, b))\n",
    "    dots.append([])\n",
    "\n",
    "    return (a + b) / 2"
   ]
  },
  {
   "cell_type": "code",
   "execution_count": 7,
   "metadata": {},
   "outputs": [],
   "source": [
    "def find_min_parabola(func, left, right, epsilon=0.0005):\n",
    "    global func_calls_count, intervals, dots\n",
    "    \n",
    "    x1, x2, x3 = left, (left + right) / 2, right\n",
    "    f1, f2, f3 = func(x1), func(x2), func(x3)\n",
    "    \n",
    "    func_calls_count = 3\n",
    "    intervals = []\n",
    "    dots = []\n",
    "\n",
    "    while abs(x3 - x1) >= epsilon:\n",
    "        u = x2 -\\\n",
    "            ((x2 - x1) ** 2 * (f2 - f3) - (x2 - x3) ** 2 * (f2 - f1)) /\\\n",
    "            2 / ((x2 - x1) * (f2 - f3) - (x2 - x3) * (f2 - f1))\n",
    "        fu = func(u)\n",
    "        \n",
    "        func_calls_count += 1\n",
    "        intervals.append((x1, x3))\n",
    "        dots.append([(u, fu)])\n",
    "\n",
    "        if fu <= f2:\n",
    "            if u <= x2:\n",
    "                x3, f3 = x2, f2\n",
    "            else:\n",
    "                x1, f1 = x2, f2\n",
    "            x2, f2 = u, fu\n",
    "        else:\n",
    "            if u <= x2:\n",
    "                x1, f1 = u, fu\n",
    "            else:\n",
    "                x3, f3 = u, fu\n",
    "    \n",
    "    intervals.append((x1, x3))\n",
    "    dots.append([])\n",
    "\n",
    "    return (x1 + x3) / 2"
   ]
  },
  {
   "cell_type": "code",
   "execution_count": 8,
   "metadata": {},
   "outputs": [],
   "source": [
    "K = (3 - math.sqrt(5)) / 2\n",
    "\n",
    "\n",
    "def _sign(x):\n",
    "    return math.copysign(1, x)\n",
    "\n",
    "\n",
    "def find_min_brent(func, left, right, epsilon=0.0005):\n",
    "    global func_calls_count, intervals, dots\n",
    "    \n",
    "    a, c = left, right\n",
    "    x = w = v = a + K * (c - a)\n",
    "    fx = fw = fv = func(x)\n",
    "    d = e = c - a\n",
    "    \n",
    "    func_calls_count = 1\n",
    "    intervals = []\n",
    "    dots = []\n",
    "\n",
    "    while abs(x - (a + c) / 2) + (c - a) / 2 >= 2 * epsilon:\n",
    "        g = e\n",
    "        e = d\n",
    "\n",
    "        u = None\n",
    "\n",
    "        # Параболлическая аппроксимация\n",
    "        # x, w, v - разные и fx, fw, fv - разные\n",
    "        if x != w and x != v and w != v and fx != fw and fx != fv and fw != fw:\n",
    "            u_temp = x - \\\n",
    "                ((x - w) ** 2 * (fx - fv) - (x - v) ** 2 * (fx - fw)) / \\\n",
    "                2 / ((x - w) * (fx - fv) - (x - v) * (fx - fw))\n",
    "\n",
    "            if a + epsilon <= u_temp <= c - epsilon and abs(u_temp - x) < g / 2:\n",
    "                u = u_temp\n",
    "\n",
    "        # Золотое сечение\n",
    "        if u is None:\n",
    "            if x < (a + c) / 2:\n",
    "                u = x + K * (c - x)\n",
    "                e = c - x\n",
    "            else:\n",
    "                u = x - K * (x - a)\n",
    "                e = x - a\n",
    "\n",
    "        if abs(u - x) < epsilon:\n",
    "            u = x + _sign(u - x) * epsilon\n",
    "\n",
    "        d = abs(u - x)\n",
    "        fu = func(u)\n",
    "        \n",
    "        func_calls_count += 1\n",
    "        intervals.append((a, c))\n",
    "        dots.append([(u, fu)])\n",
    "\n",
    "        if fu <= fx:\n",
    "            if u >= x:\n",
    "                a = x\n",
    "            else:\n",
    "                c = x\n",
    "\n",
    "            v, fv = w, fw\n",
    "            w, fw = x, fx\n",
    "            x, fx = u, fu\n",
    "        else:\n",
    "            if u >= x:\n",
    "                c = u\n",
    "            else:\n",
    "                a = u\n",
    "\n",
    "            if fu <= fw or w == x:\n",
    "                v, fv = w, fw\n",
    "                w, fw = u, fu\n",
    "            elif fu <= fv or v == x or v == w:\n",
    "                v, fv = u, fu\n",
    "    \n",
    "    intervals.append((a, c))\n",
    "    dots.append([])\n",
    "\n",
    "    return x"
   ]
  },
  {
   "cell_type": "code",
   "execution_count": 97,
   "metadata": {},
   "outputs": [],
   "source": [
    "def export_csv(name):\n",
    "    data = []\n",
    "    for i in range(len(intervals)):\n",
    "        dots_str = [str(dot) for dot in dots[i]]\n",
    "        data.append([i + 1, str(intervals[i]), ', '.join(dots_str)])\n",
    "    df = pd.DataFrame(data, columns=['', 'Интервал', 'Точки'])\n",
    "    df.to_csv(f'{name}.csv', index=False)\n",
    "\n",
    "\n",
    "def draw_plot(title, find_min_func, func, left, right):\n",
    "    x = []\n",
    "    y = []\n",
    "    for i in np.arange(-10, 0, 0.0001):\n",
    "        find_min_func(func, left, right, epsilon=math.exp(i))\n",
    "        x.append(i)\n",
    "        y.append(func_calls_count)\n",
    "    plt.title(title)\n",
    "    plt.xlabel('ln(epsilon)')\n",
    "    plt.ylabel('function calls count')\n",
    "    plt.plot(x, y)\n",
    "    plt.show()"
   ]
  },
  {
   "cell_type": "code",
   "execution_count": 98,
   "metadata": {
    "scrolled": false
   },
   "outputs": [
    {
     "name": "stdout",
     "output_type": "stream",
     "text": [
      "dichotomy 32\n"
     ]
    },
    {
     "data": {
      "image/png": "[encoded data removed]",
      "text/plain": [
       "<Figure size 432x288 with 1 Axes>"
      ]
     },
     "metadata": {
      "needs_background": "light"
     },
     "output_type": "display_data"
    },
    {
     "name": "stdout",
     "output_type": "stream",
     "text": [
      "golden_ratio 23\n"
     ]
    },
    {
     "data": {
      "image/png": "[encoded data removed]",
      "text/plain": [
       "<Figure size 432x288 with 1 Axes>"
      ]
     },
     "metadata": {
      "needs_background": "light"
     },
     "output_type": "display_data"
    },
    {
     "name": "stdout",
     "output_type": "stream",
     "text": [
      "fibonacci 20\n"
     ]
    },
    {
     "data": {
      "image/png": "[encoded data removed]",
      "text/plain": [
       "<Figure size 432x288 with 1 Axes>"
      ]
     },
     "metadata": {
      "needs_background": "light"
     },
     "output_type": "display_data"
    },
    {
     "name": "stdout",
     "output_type": "stream",
     "text": [
      "parabola 21\n"
     ]
    },
    {
     "data": {
      "image/png": "[encoded data removed]",
      "text/plain": [
       "<Figure size 432x288 with 1 Axes>"
      ]
     },
     "metadata": {
      "needs_background": "light"
     },
     "output_type": "display_data"
    },
    {
     "name": "stdout",
     "output_type": "stream",
     "text": [
      "brent 18\n"
     ]
    },
    {
     "data": {
      "image/png": "[encoded data removed]",
      "text/plain": [
       "<Figure size 432x288 with 1 Axes>"
      ]
     },
     "metadata": {
      "needs_background": "light"
     },
     "output_type": "display_data"
    }
   ],
   "source": [
    "func, left, right = func1, -0.5, 0.5\n",
    "\n",
    "find_min_func = find_min_dichotomy\n",
    "result = find_min_func(func, left, right, epsilon=epsilon)\n",
    "print('dichotomy', func_calls_count)\n",
    "export_csv('dichotomy')\n",
    "draw_plot('dichotomy', find_min_func, func, left, right)\n",
    "\n",
    "find_min_func = find_min_golden_ratio\n",
    "result = find_min_func(func, left, right, epsilon=epsilon)\n",
    "print('golden_ratio', func_calls_count)\n",
    "export_csv('golden_ratio')\n",
    "draw_plot('golden ratio', find_min_func, func, left, right)\n",
    "\n",
    "find_min_func = find_min_fibonacci\n",
    "result = find_min_func(func, left, right, epsilon=epsilon)\n",
    "print('fibonacci', func_calls_count)\n",
    "export_csv('fibonacci')\n",
    "draw_plot('fibonacci', find_min_func, func, left, right)\n",
    "\n",
    "find_min_func = find_min_parabola\n",
    "result = find_min_func(func, left, right, epsilon=epsilon)\n",
    "print('parabola', func_calls_count)\n",
    "export_csv('parabola')\n",
    "draw_plot('parabola', find_min_func, func, left, right)\n",
    "\n",
    "find_min_func = find_min_brent\n",
    "result = find_min_func(func, left, right, epsilon=epsilon)\n",
    "print('brent', func_calls_count)\n",
    "export_csv('brent')\n",
    "draw_plot('brent', find_min_func, func, left, right)"
   ]
  }
 ],
 "metadata": {
  "kernelspec": {
   "display_name": "Python 3",
   "language": "python",
   "name": "python3"
  },
  "language_info": {
   "codemirror_mode": {
    "name": "ipython",
    "version": 3
   },
   "file_extension": ".py",
   "mimetype": "text/x-python",
   "name": "python",
   "nbconvert_exporter": "python",
   "pygments_lexer": "ipython3",
   "version": "3.7.9"
  }
 },
 "nbformat": 4,
 "nbformat_minor": 4
}